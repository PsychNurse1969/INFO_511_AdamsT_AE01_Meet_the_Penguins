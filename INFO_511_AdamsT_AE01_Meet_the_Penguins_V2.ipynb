{
 "cells": [
  {
   "cell_type": "code",
   "execution_count": null,
   "metadata": {},
   "outputs": [],
   "source": [
    "'''\n",
    "INFO_511_ Application Exercise 01: Meet the Penguins\n",
    "Author: Todd Adams\n",
    "Date: 2023-10-02\n",
    "Description: We are loading packages, loading a dataset and inspecting data.\n",
    "Note: I used VS Code and ChatGPT to help me write this code.\n",
    "'''"
   ]
  },
  {
   "cell_type": "code",
   "execution_count": null,
   "metadata": {},
   "outputs": [],
   "source": [
    "import pandas as pd\n",
    "import seaborn as sns\n",
    "import matplotlib.pyplot as plt\n",
    "\n",
    "# Load the penguins dataset\n",
    "df = pd.read_csv(\"penguins.csv\")\n",
    "\n",
    "# View the first few rows\n",
    "df.head()\n",
    "\n",
    "# Dataset overview\n",
    "df.info()\n",
    "\n",
    "# Summary stats for numerical columns\n",
    "df.describe()\n"
   ]
  },
  {
   "cell_type": "markdown",
   "metadata": {},
   "source": [
    "**Narrative:**\n",
    "### - The dataset includes species, island, bill length/width, flipper length, body mass, sex, and year.\n",
    "### - Some columns have missing values (e.g., 'sex' or 'body_mass_g').\n"
   ]
  },
  {
   "cell_type": "code",
   "execution_count": null,
   "metadata": {},
   "outputs": [],
   "source": [
    "'''\n",
    "Step #3 Check  and Handle Missing Values\n",
    "'''\n",
    "# Check for missing values\n",
    "df.isnull().sum()\n"
   ]
  },
  {
   "cell_type": "markdown",
   "metadata": {},
   "source": [
    "-   **Demo:** First, replace the blank below with the number of rows in the `penguins` data frame based on the output of the chunk below. Then, replace it with \"inline code\" and render again."
   ]
  },
  {
   "cell_type": "markdown",
   "metadata": {},
   "source": [
    "There are `r nrow(penguins)` penguins in the `penguins` data frame.\n"
   ]
  },
  {
   "cell_type": "markdown",
   "metadata": {},
   "source": [
    "There are 344 penguins in the `penguins` data frame."
   ]
  }
 ],
 "metadata": {
  "kernelspec": {
   "display_name": "Python 3",
   "language": "python",
   "name": "python3"
  },
  "language_info": {
   "codemirror_mode": {
    "name": "ipython",
    "version": 3
   },
   "file_extension": ".py",
   "mimetype": "text/x-python",
   "name": "python",
   "nbconvert_exporter": "python",
   "pygments_lexer": "ipython3",
   "version": "3.11.6"
  }
 },
 "nbformat": 4,
 "nbformat_minor": 2
}
